{
  "nbformat": 4,
  "nbformat_minor": 0,
  "metadata": {
    "colab": {
      "name": "Twitch API.ipynb",
      "provenance": [],
      "collapsed_sections": []
    },
    "kernelspec": {
      "name": "python3",
      "display_name": "Python 3"
    }
  },
  "cells": [
    {
      "cell_type": "code",
      "metadata": {
        "colab": {
          "base_uri": "https://localhost:8080/"
        },
        "id": "Crjo1TcJgK97",
        "outputId": "b3443208-909e-4717-c03a-3e3b2e772cd3"
      },
      "source": [
        "#from https://towardsdatascience.com/creating-a-dataset-using-an-api-with-python-dcc1607616d\n",
        "\n",
        "import requests\n",
        "import pandas as pd\n",
        "import json\n",
        "\n",
        "channels = [\"ESL_SC2\", \"OgamingSC2\", \"cretetion\", \"freecodecamp\", \n",
        "            \"storbeck\", \"habathcx\", \"RobotCaleb\", \"noobs2ninjas\",\n",
        "            \"ninja\", \"shroud\", \"Dakotaz\", \"esltv_cs\", \"pokimane\", \n",
        "            \"tsm_bjergsen\", \"boxbox\", \"wtcn\", \"a_seagull\",\n",
        "            \"kinggothalion\", \"amazhs\", \"jahrein\", \"thenadeshot\", \n",
        "            \"sivhd\", \"kingrichard\"]\n",
        "list_of_channels = []\n",
        "url = 'https://wind-bow.glitch.me/twitch-api/channels/'\n",
        "\n",
        "for channel in channels:\n",
        "  data = requests.get(url + channel).json()\n",
        "  if 'error' not in data:\n",
        "    list_of_channels.append([data['_id'], data['display_name'], data['status'], data['followers'], data['views']])\n",
        "\n",
        "dataset = pd.DataFrame(list_of_channels)\n",
        "dataset.head"
      ],
      "execution_count": 1,
      "outputs": [
        {
          "output_type": "execute_result",
          "data": {
            "text/plain": [
              "<bound method NDFrame.head of           0             1  ...       3         4\n",
              "0  30220059       ESL_SC2  ...  135394  60991791\n",
              "1  71852806    OgamingSC2  ...   40895  20694507\n",
              "2  90401618     cretetion  ...     908     11631\n",
              "3  79776140  FreeCodeCamp  ...   10122    163747\n",
              "4  86238744      storbeck  ...      10      1019\n",
              "5   6726509      Habathcx  ...      14       764\n",
              "6  54925078    RobotCaleb  ...      20      4602\n",
              "7  82534701  noobs2ninjas  ...     835     48102\n",
              "\n",
              "[8 rows x 5 columns]>"
            ]
          },
          "metadata": {
            "tags": []
          },
          "execution_count": 1
        }
      ]
    },
    {
      "cell_type": "code",
      "metadata": {
        "id": "DLZ2ADBf64Ov"
      },
      "source": [
        "dataset.columns = ['ID', 'Display Name', 'Status', 'Followers', 'Views']\n",
        "dataset.dropna(axis = 0, how = 'any', inplace = True)\n",
        "dataset.index = pd.RangeIndex(len(dataset.index))"
      ],
      "execution_count": 2,
      "outputs": []
    },
    {
      "cell_type": "code",
      "metadata": {
        "colab": {
          "base_uri": "https://localhost:8080/",
          "height": 266
        },
        "id": "5_2bxXzp637_",
        "outputId": "73362837-1772-446e-ea09-3b3f67b65435"
      },
      "source": [
        "dataset"
      ],
      "execution_count": 3,
      "outputs": [
        {
          "output_type": "execute_result",
          "data": {
            "text/html": [
              "<div>\n",
              "<style scoped>\n",
              "    .dataframe tbody tr th:only-of-type {\n",
              "        vertical-align: middle;\n",
              "    }\n",
              "\n",
              "    .dataframe tbody tr th {\n",
              "        vertical-align: top;\n",
              "    }\n",
              "\n",
              "    .dataframe thead th {\n",
              "        text-align: right;\n",
              "    }\n",
              "</style>\n",
              "<table border=\"1\" class=\"dataframe\">\n",
              "  <thead>\n",
              "    <tr style=\"text-align: right;\">\n",
              "      <th></th>\n",
              "      <th>ID</th>\n",
              "      <th>Display Name</th>\n",
              "      <th>Status</th>\n",
              "      <th>Followers</th>\n",
              "      <th>Views</th>\n",
              "    </tr>\n",
              "  </thead>\n",
              "  <tbody>\n",
              "    <tr>\n",
              "      <th>0</th>\n",
              "      <td>30220059</td>\n",
              "      <td>ESL_SC2</td>\n",
              "      <td>RERUN: StarCraft 2 - Terminator vs. Parting (P...</td>\n",
              "      <td>135394</td>\n",
              "      <td>60991791</td>\n",
              "    </tr>\n",
              "    <tr>\n",
              "      <th>1</th>\n",
              "      <td>71852806</td>\n",
              "      <td>OgamingSC2</td>\n",
              "      <td>UnderDogs - Rediffusion - Qualifier.</td>\n",
              "      <td>40895</td>\n",
              "      <td>20694507</td>\n",
              "    </tr>\n",
              "    <tr>\n",
              "      <th>2</th>\n",
              "      <td>90401618</td>\n",
              "      <td>cretetion</td>\n",
              "      <td>It's a Divison kind of Day</td>\n",
              "      <td>908</td>\n",
              "      <td>11631</td>\n",
              "    </tr>\n",
              "    <tr>\n",
              "      <th>3</th>\n",
              "      <td>79776140</td>\n",
              "      <td>FreeCodeCamp</td>\n",
              "      <td>Greg working on Electron-Vue boilerplate w/ Ak...</td>\n",
              "      <td>10122</td>\n",
              "      <td>163747</td>\n",
              "    </tr>\n",
              "    <tr>\n",
              "      <th>4</th>\n",
              "      <td>6726509</td>\n",
              "      <td>Habathcx</td>\n",
              "      <td>Massively Effective</td>\n",
              "      <td>14</td>\n",
              "      <td>764</td>\n",
              "    </tr>\n",
              "    <tr>\n",
              "      <th>5</th>\n",
              "      <td>54925078</td>\n",
              "      <td>RobotCaleb</td>\n",
              "      <td>Code wrangling</td>\n",
              "      <td>20</td>\n",
              "      <td>4602</td>\n",
              "    </tr>\n",
              "    <tr>\n",
              "      <th>6</th>\n",
              "      <td>82534701</td>\n",
              "      <td>noobs2ninjas</td>\n",
              "      <td>Building a new hackintosh for #programming and...</td>\n",
              "      <td>835</td>\n",
              "      <td>48102</td>\n",
              "    </tr>\n",
              "  </tbody>\n",
              "</table>\n",
              "</div>"
            ],
            "text/plain": [
              "         ID  Display Name  ... Followers     Views\n",
              "0  30220059       ESL_SC2  ...    135394  60991791\n",
              "1  71852806    OgamingSC2  ...     40895  20694507\n",
              "2  90401618     cretetion  ...       908     11631\n",
              "3  79776140  FreeCodeCamp  ...     10122    163747\n",
              "4   6726509      Habathcx  ...        14       764\n",
              "5  54925078    RobotCaleb  ...        20      4602\n",
              "6  82534701  noobs2ninjas  ...       835     48102\n",
              "\n",
              "[7 rows x 5 columns]"
            ]
          },
          "metadata": {
            "tags": []
          },
          "execution_count": 3
        }
      ]
    },
    {
      "cell_type": "code",
      "metadata": {
        "id": "JIzyScEi3Hbm"
      },
      "source": [
        ""
      ],
      "execution_count": 3,
      "outputs": []
    }
  ]
}